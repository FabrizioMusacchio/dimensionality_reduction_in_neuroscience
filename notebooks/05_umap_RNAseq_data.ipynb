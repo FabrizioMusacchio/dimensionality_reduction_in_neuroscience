{
 "cells": [
  {
   "cell_type": "markdown",
   "metadata": {},
   "source": [
    "# Hands on session: UMAP\n",
    "In this example, we explore the use of UMAP to visualize high-dimensional data. UMAP is a dimensionality reduction technique that is used for visualizing high-dimensional data. It is similar to t-SNE in that it tries to preserve the local structure of the data, but it also tries to preserve the global structure of the data. This makes it a good choice for visualizing high-dimensional data that has both local and global structure.\n",
    "\n",
    "This exercise refers to Chapter 6 \"UMAP\" of the \"Dimensionality reduction in neuroscience\" course (tutor: Fabrizio Musacchio, Oct 17, 2024)\n",
    "\n",
    "## Acknowledgements:\n",
    "The dataset used here is extracted from the the datasets available in the [openTSEN package](https://opentsne.readthedocs.io/en/stable/examples/01_simple_usage/01_simple_usage.html). Specifically, it is the Macosko 2015 mouse retina data set. \n",
    "\n",
    "## Environment setup\n",
    "For reproducibility:\n",
    "\n",
    "```bash\n",
    "conda create -n dimredcution python=3.11 mamba -y\n",
    "conda activate dimredcution\n",
    "mamba install -y ipykernel matplotlib numpy scipy scikit-learn umap-learn\n",
    "```"
   ]
  },
  {
   "cell_type": "markdown",
   "metadata": {},
   "source": [
    "Let's start by importing the necessary libraries:"
   ]
  },
  {
   "cell_type": "code",
   "execution_count": null,
   "metadata": {},
   "outputs": [],
   "source": [
    "# %% IMPORTS\n",
    "import os\n",
    "import gzip\n",
    "import pickle\n",
    "import matplotlib.pyplot as plt\n",
    "import numpy as np\n",
    "\n",
    "import umap\n",
    "\n",
    "from sklearn.manifold import TSNE\n",
    "from sklearn.preprocessing import LabelEncoder\n",
    "\n",
    "from sklearn.decomposition import PCA\n",
    "\n",
    "\n",
    "# set global properties for all plots:\n",
    "plt.rcParams.update({'font.size': 14})\n",
    "plt.rcParams[\"axes.spines.top\"]    = False\n",
    "plt.rcParams[\"axes.spines.bottom\"] = False\n",
    "plt.rcParams[\"axes.spines.left\"]   = False\n",
    "plt.rcParams[\"axes.spines.right\"]  = False"
   ]
  },
  {
   "cell_type": "markdown",
   "metadata": {},
   "source": [
    "Define the path to the data file:"
   ]
  },
  {
   "cell_type": "code",
   "execution_count": 2,
   "metadata": {},
   "outputs": [],
   "source": [
    "# %% DEFINE PATHS\n",
    "DATA_PATH = '../data/'\n",
    "DATA_FILENAME = 'macosko_2015.pkl.gz'\n",
    "DATA_FILE = os.path.join(DATA_PATH, DATA_FILENAME)\n",
    "\n",
    "RESULTSPATH = '../results/'\n",
    "# check whether the results path exists, if not, create it:\n",
    "if not os.path.exists(RESULTSPATH):\n",
    "    os.makedirs(RESULTSPATH)"
   ]
  },
  {
   "cell_type": "markdown",
   "metadata": {},
   "source": [
    "Load the data:"
   ]
  },
  {
   "cell_type": "code",
   "execution_count": null,
   "metadata": {},
   "outputs": [],
   "source": [
    "# %% LOAD DATA\n",
    "with gzip.open(DATA_FILE, \"rb\") as f:\n",
    "    data = pickle.load(f)\n",
    "\n",
    "x = data[\"pca_50\"]\n",
    "\n",
    "# convert y to a sequence of numbers:\n",
    "label_encoder = LabelEncoder()\n",
    "y = label_encoder.fit_transform(data[\"CellType2\"])\n",
    "y = data[\"CellType1\"].astype(str)\n",
    "\n",
    "print(f\"The RNA data set (x) contains {x.shape[0]} samples with {x.shape[1]} features\")\n",
    "print(f\"y has shape {y.shape} with unique values: {np.unique(y)}\")"
   ]
  },
  {
   "cell_type": "markdown",
   "metadata": {},
   "source": [
    "For our later plots, we again define an according color dictionary:"
   ]
  },
  {
   "cell_type": "code",
   "execution_count": 4,
   "metadata": {},
   "outputs": [],
   "source": [
    "# decipher the cell types and create an appropriate color-label array:\n",
    "MACOSKO_COLORS = {\n",
    "    \"Amacrine cells\": \"#A5C93D\",\n",
    "    \"Astrocytes\": \"#8B006B\",\n",
    "    \"Bipolar cells\": \"#2000D7\",\n",
    "    \"Cones\": \"#538CBA\",\n",
    "    \"Fibroblasts\": \"#8B006B\",\n",
    "    \"Horizontal cells\": \"#B33B19\",\n",
    "    \"Microglia\": \"#8B006B\",\n",
    "    \"Muller glia\": \"#8B006B\",\n",
    "    \"Pericytes\": \"#8B006B\",\n",
    "    \"Retinal ganglion cells\": \"#C38A1F\",\n",
    "    \"Rods\": \"#538CBA\",\n",
    "    \"Vascular endothelium\": \"#8B006B\",\n",
    "}\n",
    "\n",
    "# Map the cell types in y to their corresponding colors\n",
    "colors_array = [MACOSKO_COLORS[cell_type] for cell_type in y]"
   ]
  },
  {
   "cell_type": "markdown",
   "metadata": {},
   "source": [
    "## 📝 Perform UMAP\n",
    "using the following parameters:\n",
    "- n_components=2\n",
    "- n_neighbors=15\n",
    "- min_dist=0.1\n",
    "- metric='euclidean'\n",
    "- random_state=42"
   ]
  },
  {
   "cell_type": "code",
   "execution_count": null,
   "metadata": {},
   "outputs": [],
   "source": [
    "# Your code goes here:\n",
    "\n",
    "# define the UMAP model:\n",
    "# umap_model = ...\n",
    "\n",
    "# fit the model:\n",
    "# ...\n",
    "\n"
   ]
  },
  {
   "cell_type": "markdown",
   "metadata": {},
   "source": [
    "Compare the processing time of UMAP with t-SNE: What do you notice?"
   ]
  },
  {
   "cell_type": "markdown",
   "metadata": {},
   "source": [
    "## 📝 Plot the results\n",
    "Plot the UMAP results using the color dictionary defined above. \n",
    "\n",
    "To assign the cell types to the clusters, you can use the following code snippet:\n",
    "\n",
    "```python\n",
    "handles = [plt.Line2D([0], [0], marker='o', color='w', markerfacecolor=color, markersize=8, label=label)\n",
    "           for label, color in MACOSKO_COLORS.items()]\n",
    "plt.legend(handles=handles, title=\"Cell Types\", bbox_to_anchor=(1.05, 1), loc='upper left')\n",
    "```\n",
    "\n",
    "Compare the UMAP results with the t-SNE results. What do you notice?"
   ]
  },
  {
   "cell_type": "code",
   "execution_count": null,
   "metadata": {},
   "outputs": [],
   "source": [
    "# Your code goes here:\n",
    "\n"
   ]
  },
  {
   "cell_type": "markdown",
   "metadata": {},
   "source": [
    "As for t-SNE, different metrics can be used for UMAP. Available metrics are:\n",
    "\n",
    "- euclidean\n",
    "- manhattan\n",
    "- chebyshev\n",
    "- minkowski\n",
    "- canberra\n",
    "- braycurtis\n",
    "- mahalanobis\n",
    "- wminkowski\n",
    "- seuclidean\n",
    "- cosine\n",
    "- correlation\n",
    "- haversine\n",
    "- hamming\n",
    "- jaccard\n",
    "- dice\n",
    "- russelrao\n",
    "- kulsinski\n",
    "- ll_dirichlet\n",
    "- hellinger\n",
    "- rogerstanimoto\n",
    "- sokalmichener\n",
    "- sokalsneath\n",
    "- yule\n",
    "\n",
    "## 📝 Define the UMAP model with cosine metric\n",
    "1. Fit the model with the data.\n",
    "2. Plot the results."
   ]
  },
  {
   "cell_type": "code",
   "execution_count": null,
   "metadata": {},
   "outputs": [],
   "source": [
    "# Your code goes here:\n",
    "\n"
   ]
  },
  {
   "cell_type": "markdown",
   "metadata": {},
   "source": [
    "## 📝 Define the UMAP model with manhattan metric\n",
    "1. Fit the model with the data.\n",
    "2. Plot the results."
   ]
  },
  {
   "cell_type": "code",
   "execution_count": null,
   "metadata": {},
   "outputs": [],
   "source": [
    "# Your code goes here:\n"
   ]
  },
  {
   "cell_type": "markdown",
   "metadata": {},
   "source": [
    "## 📝 Play further with the UMAP parameters and metrics\n",
    "Freely explore the UMAP parameters and metrics. \n",
    "1. Play with\n",
    "   - different metrics\n",
    "   - change the number of neighbors\n",
    "   - change the minimum distance\n",
    "2. Plot the results."
   ]
  },
  {
   "cell_type": "markdown",
   "metadata": {},
   "source": [
    "## 📝 Compare the results of the different UMAP models. What do you notice?"
   ]
  },
  {
   "cell_type": "markdown",
   "metadata": {},
   "source": [
    "# Your answer goes here:"
   ]
  }
 ],
 "metadata": {
  "kernelspec": {
   "display_name": "dimredcution",
   "language": "python",
   "name": "python3"
  },
  "language_info": {
   "codemirror_mode": {
    "name": "ipython",
    "version": 3
   },
   "file_extension": ".py",
   "mimetype": "text/x-python",
   "name": "python",
   "nbconvert_exporter": "python",
   "pygments_lexer": "ipython3",
   "version": "3.11.10"
  }
 },
 "nbformat": 4,
 "nbformat_minor": 2
}
