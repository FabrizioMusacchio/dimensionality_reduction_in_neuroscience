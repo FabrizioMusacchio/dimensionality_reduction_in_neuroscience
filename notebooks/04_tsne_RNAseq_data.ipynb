{
 "cells": [
  {
   "cell_type": "markdown",
   "metadata": {},
   "source": [
    "# Hands on session: t-SNE\n",
    "In this example, we explore the use of t-SNE to visualize high-dimensional data. \n",
    "\n",
    "This exercise refers to Chapter 5 \"t-SNE\" of the \"Dimensionality reduction in neuroscience\" course (tutor: Fabrizio Musacchio, Oct 17, 2024)\n",
    "\n",
    "## Acknowledgements:\n",
    "The dataset used here is extracted from the the datasets available in the [openTSEN package](https://opentsne.readthedocs.io/en/stable/examples/01_simple_usage/01_simple_usage.html). Specifically, it is the Macosko 2015 mouse retina data set. \n",
    "\n",
    "## Environment setup\n",
    "For reproducibility:\n",
    "\n",
    "```bash\n",
    "conda create -n dimredcution python=3.11 mamba -y\n",
    "conda activate dimredcution\n",
    "mamba install ipykernel matplotlib numpy scipy scikit-learn -y\n",
    "```"
   ]
  },
  {
   "cell_type": "markdown",
   "metadata": {},
   "source": [
    "Let's import the necessary libraries:"
   ]
  },
  {
   "cell_type": "code",
   "execution_count": 1,
   "metadata": {},
   "outputs": [],
   "source": [
    "# %% IMPORTS\n",
    "import os\n",
    "import gzip\n",
    "import pickle\n",
    "import matplotlib.pyplot as plt\n",
    "import numpy as np\n",
    "\n",
    "from sklearn.manifold import TSNE\n",
    "from sklearn.preprocessing import LabelEncoder\n",
    "\n",
    "from sklearn.decomposition import PCA\n",
    "\n",
    "# set global properties for all plots:\n",
    "plt.rcParams.update({'font.size': 14})\n",
    "plt.rcParams[\"axes.spines.top\"]    = False\n",
    "plt.rcParams[\"axes.spines.bottom\"] = False\n",
    "plt.rcParams[\"axes.spines.left\"]   = False\n",
    "plt.rcParams[\"axes.spines.right\"]  = False"
   ]
  },
  {
   "cell_type": "markdown",
   "metadata": {},
   "source": [
    "Define the path to the data file:"
   ]
  },
  {
   "cell_type": "code",
   "execution_count": 2,
   "metadata": {},
   "outputs": [],
   "source": [
    "DATA_PATH = '../data/'\n",
    "DATA_FILENAME = 'macosko_2015.pkl.gz'\n",
    "DATA_FILE = os.path.join(DATA_PATH, DATA_FILENAME)\n",
    "\n",
    "RESULTSPATH = '../results/'\n",
    "# check whether the results path exists, if not, create it:\n",
    "if not os.path.exists(RESULTSPATH):\n",
    "    os.makedirs(RESULTSPATH)"
   ]
  },
  {
   "cell_type": "markdown",
   "metadata": {},
   "source": [
    "Load the data and inspect its structure:"
   ]
  },
  {
   "cell_type": "code",
   "execution_count": null,
   "metadata": {},
   "outputs": [],
   "source": [
    "# %% LOAD DATA\n",
    "with gzip.open(DATA_FILE, \"rb\") as f:\n",
    "    data = pickle.load(f)\n",
    "\n",
    "x = data[\"pca_50\"]\n",
    "\n",
    "# Convert y to a sequence of numbers\n",
    "label_encoder = LabelEncoder()\n",
    "y = label_encoder.fit_transform(data[\"CellType2\"])\n",
    "y = data[\"CellType1\"].astype(str)\n",
    "#np.unique(data[\"CellType2\"])\n",
    "#np.unique(data[\"CellType1\"])\n",
    "\n",
    "print(f\"The RNA data set (x) contains {x.shape[0]} samples with {x.shape[1]} features\")\n",
    "print(f\"y has shape {y.shape} with unique values: {np.unique(y)}\")\n"
   ]
  },
  {
   "cell_type": "markdown",
   "metadata": {},
   "source": [
    "For our later plots, we define an according color dictionary:"
   ]
  },
  {
   "cell_type": "code",
   "execution_count": 4,
   "metadata": {},
   "outputs": [],
   "source": [
    "# decipher the cell types and create an appropriate color-label array:\n",
    "MACOSKO_COLORS = {\n",
    "    \"Amacrine cells\": \"#A5C93D\",\n",
    "    \"Astrocytes\": \"#8B006B\",\n",
    "    \"Bipolar cells\": \"#2000D7\",\n",
    "    \"Cones\": \"#538CBA\",\n",
    "    \"Fibroblasts\": \"#8B006B\",\n",
    "    \"Horizontal cells\": \"#B33B19\",\n",
    "    \"Microglia\": \"#8B006B\",\n",
    "    \"Muller glia\": \"#8B006B\",\n",
    "    \"Pericytes\": \"#8B006B\",\n",
    "    \"Retinal ganglion cells\": \"#C38A1F\",\n",
    "    \"Rods\": \"#538CBA\",\n",
    "    \"Vascular endothelium\": \"#8B006B\",\n",
    "}\n",
    "\n",
    "# map the cell types in y to their corresponding colors:\n",
    "colors_array = [MACOSKO_COLORS[cell_type] for cell_type in y]"
   ]
  },
  {
   "cell_type": "markdown",
   "metadata": {},
   "source": [
    "## 📝 Perform a t-SNE analysis on the data \n",
    "\n",
    "using the following parameters:\n",
    "- n_components=2\n",
    "- perplexity = 30\n",
    "- n_iter = 1000\n",
    "- random_state = 42\n",
    "- metric = 'euclidean'\n",
    "- verbose = 1\n",
    "- init = 'pca'\n",
    "- n_jobs = -1"
   ]
  },
  {
   "cell_type": "code",
   "execution_count": null,
   "metadata": {},
   "outputs": [],
   "source": [
    "# Your code goes here:\n",
    "\n",
    "# define the t-sne model:\n",
    "# tsne = ...\n",
    "\n",
    "# fit the model:\n"
   ]
  },
  {
   "cell_type": "markdown",
   "metadata": {},
   "source": [
    "## 📝 Plot the results\n",
    "Plot the t-SNE results using the color dictionary defined above. \n",
    "\n",
    "To assign the cell types to the clusters, you can use the following code snippet:\n",
    "\n",
    "```python\n",
    "handles = [plt.Line2D([0], [0], marker='o', color='w', markerfacecolor=color, markersize=8, label=label)\n",
    "           for label, color in MACOSKO_COLORS.items()]\n",
    "plt.legend(handles=handles, title=\"Cell Types\", bbox_to_anchor=(1.05, 1), loc='upper left')\n",
    "```"
   ]
  },
  {
   "cell_type": "code",
   "execution_count": null,
   "metadata": {},
   "outputs": [],
   "source": [
    "# Your code goes here:\n",
    "\n"
   ]
  },
  {
   "cell_type": "markdown",
   "metadata": {},
   "source": [
    "## 📝 Compare with PCA\n",
    "For comparison, perform a PCA analysis on the data and plot the results."
   ]
  },
  {
   "cell_type": "code",
   "execution_count": null,
   "metadata": {},
   "outputs": [],
   "source": [
    "# Your code goes here:\n",
    "\n"
   ]
  },
  {
   "cell_type": "markdown",
   "metadata": {},
   "source": [
    "## Preserving global structure\n",
    "Preserving global structure refers to the ability of the dimensionality reduction algorithm to preserve the relationships between the data points in the high-dimensional space. This is important because it allows us to see the similarities and differences between the data points in the low-dimensional 'tsne' space.\n",
    "\n",
    "This can be achieved by:\n",
    "\n",
    "- initializing the t-sne model with the PCA results (`init='pca'`, not with `init='random'`)\n",
    "- changing the metric used to calculate the distances between the data points:\n",
    "    - `euclidean` (default)\n",
    "    - `manhattan` (L1 distance; Computes the sum of the absolute differences between coordinates.)\n",
    "    - `chebyshev` (computes the maximum absolute difference between coordinates.)\n",
    "    - `minkowski` (a generalized form of both Euclidean and Manhattan distances (depending on the order p); You can set p=1 for Manhattan or p=2 for Euclidean).\n",
    "    - `cosine` (computes the cosine of the angle between two vectors (typically used for high-dimensional data such as text).\n",
    "    - `correlation` (computes the correlation distance between vectors, often used for time-series data.) \n",
    "    - `jaccard` (computes the Jaccard distance between two binary sets. This is useful for comparing binary vectors (e.g., sets of features).)\n",
    "    - 'hamming` (computes the proportion of differing coordinates between two vectors (often used with binary data))\n",
    "- changing the `perplexity` parameter"
   ]
  },
  {
   "cell_type": "markdown",
   "metadata": {},
   "source": [
    "## 📝 Define a t-sne model with euclidean metric and random initialization\n",
    "1. Fit the model with the data.\n",
    "2. Plot the results."
   ]
  },
  {
   "cell_type": "code",
   "execution_count": null,
   "metadata": {},
   "outputs": [],
   "source": [
    "# Your code goes here:\n",
    "\n",
    "tsne_random = TSNE(n_components=2, perplexity=30, n_iter=1000, random_state=42, metric='euclidean',\n",
    "                   verbose=1, init='random', n_jobs=-1)\n",
    "\n",
    "# fit the model:\n",
    "model_tsne_random = tsne_random.fit_transform(x)\n",
    "\n",
    "# plot the results:\n",
    "plt.figure(figsize=(10, 8))\n",
    "plt.scatter(model_tsne_random[:, 0], model_tsne_random[:, 1], s=1, cmap='tab20', c = colors_array, alpha=0.6)\n",
    "plt.title('T-SNE of RNAseq data (random)')\n",
    "plt.xlabel('t-SNE 1')\n",
    "plt.ylabel('t-SNE 2')\n",
    "# add a 'colorbar' that matches the cell types:\n",
    "handles = [plt.Line2D([0], [0], marker='o', color='w', markerfacecolor=color, markersize=8, label=label)\n",
    "              for label, color in MACOSKO_COLORS.items()]\n",
    "plt.legend(handles=handles, title=\"Cell Types\", bbox_to_anchor=(1.05, 1), loc='upper left')\n",
    "plt.tight_layout()\n",
    "plt.savefig(os.path.join(RESULTSPATH, 'tsne_RNAseq_data_scikit_random_init.png'), dpi=300)\n",
    "plt.show()"
   ]
  },
  {
   "cell_type": "markdown",
   "metadata": {},
   "source": [
    "## 📝 Define the t-sne model with cosine metric and pca initialization\n",
    "1. Fit the model with the data.\n",
    "2. Plot the results."
   ]
  },
  {
   "cell_type": "code",
   "execution_count": null,
   "metadata": {},
   "outputs": [],
   "source": [
    "# Your code goes here:\n",
    "\n"
   ]
  },
  {
   "cell_type": "markdown",
   "metadata": {},
   "source": [
    "## 📝 Define a t-sne model with manhattan metric and pca initialization\n",
    "1. Fit the model with the data.\n",
    "2. Plot the results."
   ]
  },
  {
   "cell_type": "code",
   "execution_count": null,
   "metadata": {},
   "outputs": [],
   "source": [
    "# Your code goes here:\n",
    "\n"
   ]
  },
  {
   "cell_type": "markdown",
   "metadata": {},
   "source": [
    "## 📝 Define a t-sne model with euclidean metric, pca initialization and a perplexity of 500\n",
    "1. Fit the model with the data.\n",
    "2. Plot the results."
   ]
  },
  {
   "cell_type": "code",
   "execution_count": null,
   "metadata": {},
   "outputs": [],
   "source": [
    "# Your code goes here:\n",
    "\n"
   ]
  },
  {
   "cell_type": "markdown",
   "metadata": {},
   "source": [
    "## 📝 Compare the results\n",
    "Compare the results of the different t-SNE models in terms of the global structure they preserve.\n",
    "\n",
    "\n"
   ]
  },
  {
   "cell_type": "markdown",
   "metadata": {},
   "source": [
    "# Your answer goes here\n"
   ]
  }
 ],
 "metadata": {
  "kernelspec": {
   "display_name": "dimredcution",
   "language": "python",
   "name": "python3"
  },
  "language_info": {
   "codemirror_mode": {
    "name": "ipython",
    "version": 3
   },
   "file_extension": ".py",
   "mimetype": "text/x-python",
   "name": "python",
   "nbconvert_exporter": "python",
   "pygments_lexer": "ipython3",
   "version": "3.11.10"
  }
 },
 "nbformat": 4,
 "nbformat_minor": 2
}
