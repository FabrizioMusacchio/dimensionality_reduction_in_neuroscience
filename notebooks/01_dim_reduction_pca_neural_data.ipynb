{
 "cells": [
  {
   "cell_type": "markdown",
   "metadata": {},
   "source": [
    "# Hands on session: Dimensionality reduction with PCA\n",
    "In this example, we will explore Principal Component Analysis (PCA) for dimensionality reduction of neural data.\n",
    "\n",
    "This exercise refers to Chapter 2 \"Principal component analysis (PCA)\" of the \"Dimensionality reduction in neuroscience\" course (tutor: Fabrizio Musacchio, Oct 17, 2024)\n",
    "\n",
    "## Acknowledgements:\n",
    "This tutorial is adapted from the 2023's course 'data analysis techniques in neuroscience'  by the Chen Institute for Neuroscience at Caltech: \n",
    "\n",
    "<https://github.com/cheninstitutecaltech/Caltech_DATASAI_Neuroscience_23>\n",
    "\n",
    "The dataset (also provided by the above tutorial) is from the paper:\n",
    "\n",
    "Remedios, R., Kennedy, A., Zelikowsky, M. et al. Social behaviour shapes hypothalamic neural  ensemble representations of conspecific sex. Nature 550, 388–392 (2017). <https://doi.org/10.1038/nature23885>\n",
    "\n",
    "## Dataset\n",
    "We will work with calcium imaging data from one male mouse. The calcium imaging recordings are already converted into into continuous neural signals. The male mouse had different visitors in its cage throughout the recording (female or male), associated with a corresponding behavioral response (attack or no attack). With PCA, we will explore the neural responses to these different social stimuli.\n",
    "\n",
    "## Environment setup\n",
    "For reproducibility:\n",
    "\n",
    "```bash\n",
    "conda create -n dimredcution python=3.11 mamba -y\n",
    "conda activate dimredcution\n",
    "mamba install ipykernel matplotlib numpy scipy scikit-learn -y\n",
    "```"
   ]
  },
  {
   "cell_type": "markdown",
   "metadata": {},
   "source": [
    "We begin by loading the necessary libraries:"
   ]
  },
  {
   "cell_type": "code",
   "execution_count": 1,
   "metadata": {},
   "outputs": [],
   "source": [
    "# %% IMPORTS\n",
    "import os\n",
    "import matplotlib.pyplot as plt\n",
    "import numpy as np\n",
    "import time\n",
    "\n",
    "from mpl_toolkits import mplot3d\n",
    "from numpy.linalg import svd\n",
    "from scipy.io import loadmat\n",
    "from sklearn.decomposition import PCA\n",
    "\n",
    "# set global properties for all plots:\n",
    "plt.rcParams.update({'font.size': 14})\n",
    "plt.rcParams[\"axes.spines.top\"]    = False\n",
    "plt.rcParams[\"axes.spines.bottom\"] = False\n",
    "plt.rcParams[\"axes.spines.left\"]   = False\n",
    "plt.rcParams[\"axes.spines.right\"]  = False"
   ]
  },
  {
   "cell_type": "markdown",
   "metadata": {},
   "source": [
    "Next, we define the path to the data. If you are running this script in a Google Colab environment, you need upload the data file `hypothalamus_calcium_imaging_remedios_et_al.mat` from the GitHub repository to your Google Drive; please follow further instructions [here](https://www.fabriziomusacchio.com/blog/2023-03-23-google_colab_file_access/)."
   ]
  },
  {
   "cell_type": "code",
   "execution_count": 2,
   "metadata": {},
   "outputs": [],
   "source": [
    "# %% DEFINE PATHS\n",
    "DATA_PATH = '../data/'\n",
    "DATA_FILENAME = 'hypothalamus_calcium_imaging_remedios_et_al.mat'\n",
    "DATA_FILE = os.path.join(DATA_PATH, DATA_FILENAME)\n",
    "\n",
    "RESULTSPATH = '../results/'\n",
    "# check whether the results path exists, if not, create it:\n",
    "if not os.path.exists(RESULTSPATH):\n",
    "    os.makedirs(RESULTSPATH)"
   ]
  },
  {
   "cell_type": "markdown",
   "metadata": {},
   "source": [
    "Now we load the data and inspect its structure:"
   ]
  },
  {
   "cell_type": "code",
   "execution_count": 3,
   "metadata": {},
   "outputs": [],
   "source": [
    "# load the data:\n",
    "hypothalamus_data = loadmat(DATA_FILE)"
   ]
  },
  {
   "cell_type": "markdown",
   "metadata": {},
   "source": [
    "## 📝 Inspect the data\n",
    "Inspect the type and structure (e.g., shape, keys) of the data:"
   ]
  },
  {
   "cell_type": "code",
   "execution_count": null,
   "metadata": {},
   "outputs": [],
   "source": [
    "# Your code goes here:\n",
    "\n"
   ]
  },
  {
   "cell_type": "markdown",
   "metadata": {},
   "source": [
    "## 📝 Extract the $N$ main data arrays into $N$ separate variables"
   ]
  },
  {
   "cell_type": "code",
   "execution_count": 15,
   "metadata": {},
   "outputs": [],
   "source": [
    "# Your code goes here:\n",
    "\n"
   ]
  },
  {
   "cell_type": "markdown",
   "metadata": {},
   "source": [
    "## 📝 What is the dimensionality of each of the $N$ data arrays? What do you think the dimensions represent?"
   ]
  },
  {
   "cell_type": "code",
   "execution_count": null,
   "metadata": {},
   "outputs": [],
   "source": [
    "# Your code goes here:\n",
    "\n"
   ]
  },
  {
   "cell_type": "markdown",
   "metadata": {},
   "source": [
    "## 📝  Plot the neural data with Matplotlib's imshow function. What do you see?"
   ]
  },
  {
   "cell_type": "code",
   "execution_count": null,
   "metadata": {},
   "outputs": [],
   "source": [
    "# Your code here:\n",
    "\n"
   ]
  },
  {
   "cell_type": "markdown",
   "metadata": {},
   "source": [
    "## 📝 Plot the attack vector: What do you see?"
   ]
  },
  {
   "cell_type": "code",
   "execution_count": null,
   "metadata": {},
   "outputs": [],
   "source": [
    "# Your code goes here:\n",
    "\n"
   ]
  },
  {
   "cell_type": "markdown",
   "metadata": {},
   "source": [
    "## 📝  Plot the gender vector: What do you see?"
   ]
  },
  {
   "cell_type": "code",
   "execution_count": null,
   "metadata": {},
   "outputs": [],
   "source": [
    "# Your code goes here:\n",
    "\n"
   ]
  },
  {
   "cell_type": "markdown",
   "metadata": {},
   "source": [
    "## PCA principle\n",
    "We now apply PCA to the neural data to reduce its dimensionality. We will apply PCA as follows: We treat each time step in the neural data as an $N$-dimensional data point, where $N$ is the number of neurons. We use PCA to reduce the dimensionality of the data points to S dimensions, with $S\\lt N$. $S$ can be e.g. 3 or 10. We will then plot the data points in the $S$-dimensional space spanned by the principal components (PC)."
   ]
  },
  {
   "cell_type": "markdown",
   "metadata": {},
   "source": [
    "## 📝 Estimate the number of principal components necessary\n",
    "Before we perform PCA, we need to estimate how many principal components we should keep:\n",
    "\n",
    "1. Create a PCA object (model) with 10 components\n",
    "2. Fit the model to the neural data\n",
    "3. Plot the explained variance ratio of the principal components (`your_model_fit.explained_variance_ratio_`). How much variance is explained by each of these principal components? What does this tell you about the data?"
   ]
  },
  {
   "cell_type": "code",
   "execution_count": null,
   "metadata": {},
   "outputs": [],
   "source": [
    "# Your code goes here:\n",
    "\n",
    "# n_components  =\n",
    "# PCA_model_S10 = \n",
    "\n",
    "\n",
    "# fit the PCA model to the neural data:\n",
    "\n",
    "\n",
    "# print the explained variance ratio of the principal components:\n",
    "\n",
    "# How much variance is explained by each of these principal components? What does this tell you about the data?\n"
   ]
  },
  {
   "cell_type": "markdown",
   "metadata": {},
   "source": [
    "## 📝 Perform the PCA\n",
    "We now apply PCA and set $S=3$. We will then plot the data points in the 3D space spanned by the  first three principal components:\n",
    "\n",
    "1. Create a PCA object (model) with 3 components.\n",
    "2. Fit the model to the neural data.\n",
    "3. What is the dimensionality of the PCAed neural data? What do these dimensions mean?\n",
    "4. Plot the data points projected on the 3 principal components (PC) in the 3D space (`ax = plt.axes(projection='3d')`, `ax.plot3D()`). Also plot the 3 PC as 2D projections in a separate plot of 3 subplots.\n",
    "\n",
    "Useful tip: With `ax.view_init(elev=30, azim=45)`, you can change the view of the 3D plot."
   ]
  },
  {
   "cell_type": "code",
   "execution_count": null,
   "metadata": {},
   "outputs": [],
   "source": [
    "# Your code goes here:\n",
    "\n",
    "# create a PCA object (model) with 3 components:\n",
    "# n_components = \n",
    "# PCA_model_S3 = \n",
    "\n",
    "\n",
    "# fit the PCA model to the neural data:\n",
    "\n",
    "# What is the dimensionality of the PCAed neural data? What do these dimensions mean?\n",
    "\n",
    "\n",
    "# What interesting things do you notice about your dimensionality reduced data? Why are the axes \n",
    "# so different from each other? What do you think they represent?\n"
   ]
  },
  {
   "cell_type": "markdown",
   "metadata": {},
   "source": [
    "## 📝 Deciphering the structure of the data in the PCA space – factor: time\n",
    "We will now try to understand the structure of the data in the PCA space by looking at the different parameters of the data. We start with the factor time:\n",
    "\n",
    "1. Color-code the data points in the PCA space according to their occurrence in time (3D and 2D plots). What do you see?"
   ]
  },
  {
   "cell_type": "code",
   "execution_count": null,
   "metadata": {},
   "outputs": [],
   "source": [
    "# Your code goes here:\n",
    "\n",
    "# 3D plots:\n",
    "\n",
    "# 2D plots:\n",
    "\n",
    "# What do you see? What does this further tell you about the structure of the data in the PCA space?\n"
   ]
  },
  {
   "cell_type": "markdown",
   "metadata": {},
   "source": [
    "## 📝 Deciphering the structure of the data in the PCA space – factor: behavior\n",
    "Next, color-code the data points in the PCA space according to the attack vector. First, plot all  PCs, and then overplot the PC where `attack_vector` is 1. What do you see?"
   ]
  },
  {
   "cell_type": "code",
   "execution_count": null,
   "metadata": {},
   "outputs": [],
   "source": [
    "# Your code goes here:\n",
    "\n",
    "# 3D plots:\n",
    "\n",
    "# 2D plots:\n",
    "\n",
    "\n",
    "\n",
    "\n",
    "# What do you see?\n",
    "\n"
   ]
  },
  {
   "cell_type": "markdown",
   "metadata": {},
   "source": [
    "## 📝 Deciphering the structure of the data in the PCA space – factor: gender\n",
    "Next, color-code the data points in the PCA space according the `gender_vector`. What do you see?"
   ]
  },
  {
   "cell_type": "code",
   "execution_count": null,
   "metadata": {},
   "outputs": [],
   "source": [
    "# Your code goes here:\n",
    "\n",
    "# 3D plot:\n",
    "\n",
    "# 2D plots:\n",
    "\n",
    "# What do you see?\n",
    "\n"
   ]
  },
  {
   "cell_type": "markdown",
   "metadata": {},
   "source": [
    "## 📝 Bonus: PCA with just 2 components\n",
    "Repeat everything, but this time reduce the data to 2 PCs:\n",
    "\n",
    "1. Train a model on the neural data with 2 PCs.\n",
    "2. How much explained variance do these 2 PCs capture? Do you notice anything interesting about these 2 PCs? \n",
    "3. How is time visualized in these 2 PCs?\n",
    "4.  How is attack visualized in these 2 PCs?\n",
    "5.   How is intruder sex visualized in these 2 PCs?\n"
   ]
  },
  {
   "cell_type": "markdown",
   "metadata": {},
   "source": [
    "# Your code goes here:\n"
   ]
  }
 ],
 "metadata": {
  "kernelspec": {
   "display_name": "dimredcution",
   "language": "python",
   "name": "python3"
  },
  "language_info": {
   "codemirror_mode": {
    "name": "ipython",
    "version": 3
   },
   "file_extension": ".py",
   "mimetype": "text/x-python",
   "name": "python",
   "nbconvert_exporter": "python",
   "pygments_lexer": "ipython3",
   "version": "3.11.10"
  }
 },
 "nbformat": 4,
 "nbformat_minor": 2
}
